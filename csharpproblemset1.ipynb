{
 "cells": [
  {
   "cell_type": "code",
   "execution_count": null,
   "id": "19097da2",
   "metadata": {},
   "outputs": [],
   "source": [
    "//Question 1\n",
    "//5 is an integer (int) .\n",
    "//5.0 is a floating datatype(float) .\n",
    "//5>1 is a boolean(bool) .\n",
    "//'5' is a character/string(char) .\n",
    "//5*2 is an integer(int).\n",
    "//'5'*2 is not valid because one is char and 2 is int.\n",
    "//'5'+'2' is string.\n",
    "//5/2 is double.\n",
    "//5%2 is  integer(int).\n",
    "//{5,2,1} is array.\n",
    "//5==3 is boolean.\n",
    "//Pi(the number )is double datatype."
   ]
  },
  {
   "cell_type": "code",
   "execution_count": 2,
   "id": "43d7d6c0",
   "metadata": {},
   "outputs": [
    {
     "name": "stdout",
     "output_type": "stream",
     "text": [
      "String: Supercalifragilisticexpialidocious\n",
      "String Length: 34\n",
      "Yes the word ice is a substring\n"
     ]
    }
   ],
   "source": [
    "//Question 2 (A)(B)\n",
    " \n",
    "  \n",
    "  string org_str = \"Supercalifragilisticexpialidocious\";\n",
    " Console.WriteLine(\"String: \" + org_str);\n",
    " Console.WriteLine(\"String Length: \"+ org_str.Length);\n",
    " if (org_str.Contains(\"ice\") == true)//whether ice is a substring\n",
    " { \n",
    " Console.WriteLine(\"Yes the word ice is a substring\");\n",
    " }\n",
    " else\n",
    " {\n",
    " Console.WriteLine(\"No the word ice is not a substring\");\n",
    " }"
   ]
  },
  {
   "cell_type": "code",
   "execution_count": 3,
   "id": "82fae579",
   "metadata": {},
   "outputs": [
    {
     "name": "stdout",
     "output_type": "stream",
     "text": [
      "Supercalifragilisticexpialidocious\r\n"
     ]
    }
   ],
   "source": [
    "//Question 2(C) \n",
    "{\n",
    "            Console.WriteLine(FindLongestWord(\"Supercalifragilisticexpialidocious\", \"Honorificabilitudinitatibus\", \"Bababadalgharaghtakamminarronnkonn\"));\n",
    "        }\n",
    "\n",
    "        static string FindLongestWord(string word1, string word2, string word3)\n",
    "        {\n",
    "            string longestWord = word1;\n",
    "\n",
    "            if (word2.Length > longestWord.Length)\n",
    "            {\n",
    "                longestWord = word2;\n",
    "            }\n",
    "            if (word3.Length > longestWord.Length)\n",
    "            {\n",
    "                longestWord = word3;\n",
    "            }\n",
    "\n",
    "            return longestWord;\n",
    "        }"
   ]
  },
  {
   "cell_type": "code",
   "execution_count": 4,
   "id": "8364eaa1",
   "metadata": {},
   "outputs": [
    {
     "name": "stdout",
     "output_type": "stream",
     "text": [
      "The first composer in dictionary order is: Bartok\n",
      "The last composer in dictionary order is: Buxtehude\n"
     ]
    }
   ],
   "source": [
    "//Question 2(D) \n",
    "\n",
    "string[] composers = new string[] { \"Berlioz\",\"Borodin\",\"Brain\",\"Bartok\",\"Bellini\",\"Buxtehude\",\"Bernstein\"};\n",
    "\n",
    "Array.Sort(composers);\n",
    "\n",
    "Console.WriteLine(\"The first composer in dictionary order is: \" + composers[0]);\n",
    "Console.WriteLine(\"The last composer in dictionary order is: \" + composers[composers.Length - 1]);"
   ]
  },
  {
   "cell_type": "code",
   "execution_count": 5,
   "id": "8124bb61",
   "metadata": {},
   "outputs": [
    {
     "name": "stdout",
     "output_type": "stream",
     "text": [
      "1.7320508075688772\r\n"
     ]
    }
   ],
   "source": [
    "//Question 3\n",
    "        \n",
    "       Console.WriteLine(TriangleArea(2, 2, 2));\n",
    "        \n",
    "\n",
    "        static double TriangleArea(double a, double b, double c)\n",
    "        {\n",
    "            double s = (a + b + c) / 2;\n",
    "            double area= Math.Sqrt(s * (s - a) * (s - b) * (s - c));\n",
    "            return area;\n",
    "        }"
   ]
  },
  {
   "cell_type": "code",
   "execution_count": 6,
   "id": "ecd56166",
   "metadata": {},
   "outputs": [
    {
     "name": "stdout",
     "output_type": "stream",
     "text": [
      "The Even elements are: \n",
      "42 \t56 \t32 \t\n",
      "The Odd elements are: \n",
      "25 \t47 \t"
     ]
    }
   ],
   "source": [
    "//Question 4\n",
    "\n",
    "        \n",
    "          //  Console.WriteLine(\"Input the number of elemets to be stored in the array: \");\n",
    "            //  int no = Convert.ToInt32(Console.ReadLine());\n",
    "            int no = 5;\n",
    "            int[] a = new int[5] { 25, 47, 42, 56, 32 };\n",
    "            int[] odd = new int[no];\n",
    "            int[] even = new int[no];\n",
    "            int i, j, k;\n",
    "           // for (i=0;i<no;i++)\n",
    "           // {\n",
    "           //     Console.WriteLine($\"Enter element {i + 1}: \");\n",
    "           //     a[p] = Convert.ToInt32(Console.ReadLine());\n",
    "           // }\n",
    "            for (i = 0, j = 0, k = 0; i < no; i++)\n",
    "            {\n",
    "                if ((a[i]%2)==0)\n",
    "                {\n",
    "                    even[j] = a[i];\n",
    "                    j++;\n",
    "                }\n",
    "                else\n",
    "                {\n",
    "                    odd[k]= a[i];\n",
    "                    k++;\n",
    "                }\n",
    "            }\n",
    "            Console.WriteLine(\"The Even elements are: \");\n",
    "            for(i=0;i<j;i++)\n",
    "            {\n",
    "                Console.Write($\"{even[i]} \\t\");\n",
    "            }\n",
    "            Console.WriteLine();\n",
    "            Console.WriteLine(\"The Odd elements are: \");\n",
    "            for (i = 0; i < k; i++)\n",
    "            {\n",
    "                Console.Write($\"{odd[i]} \\t\");\n",
    "            }"
   ]
  },
  {
   "cell_type": "code",
   "execution_count": 7,
   "id": "3f13c2e6",
   "metadata": {},
   "outputs": [
    {
     "name": "stdout",
     "output_type": "stream",
     "text": [
      "True\n",
      "False\n"
     ]
    }
   ],
   "source": [
    "//Question 5\n",
    "        {\n",
    "            Console.WriteLine(Inside(1, 1, 0, 0, 2, 3));  // True\n",
    "            Console.WriteLine(Inside(-1, -1, 0, 0, 2, 3));  // False\n",
    "            Console.ReadLine();\n",
    "        }\n",
    "\n",
    "        static bool Inside(int x, int y, int x1, int y1, int x2, int y2)\n",
    "        {\n",
    "            return x >= x1 && x <= x2 && y >= y1 && y <= y2;\n",
    "        }"
   ]
  },
  {
   "cell_type": "code",
   "execution_count": 8,
   "id": "02787108",
   "metadata": {},
   "outputs": [
    {
     "name": "stdout",
     "output_type": "stream",
     "text": [
      "False\r\n"
     ]
    }
   ],
   "source": [
    "//5(B)\n",
    "static bool Inside(double x, double y, double x1, double y1, double x2, double y2)\n",
    "         {\n",
    "              return x >= x1 && x <= x2 && y >= y1 && y <= y2; \n",
    "         }\n",
    "         {\n",
    "            Console.WriteLine(Inside(1, 1,0.3,0.5, 1.1, 0.7) && Inside(1, 1,0.5,0.2,1.1,2));\n",
    "            Console.ReadLine();\n",
    "         }"
   ]
  }
 ],
 "metadata": {
  "kernelspec": {
   "display_name": ".NET (C#)",
   "language": "C#",
   "name": ".net-csharp"
  },
  "language_info": {
   "file_extension": ".cs",
   "mimetype": "text/x-csharp",
   "name": "C#",
   "pygments_lexer": "csharp",
   "version": "11.0"
  }
 },
 "nbformat": 4,
 "nbformat_minor": 5
}
