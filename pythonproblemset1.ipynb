{
 "cells": [
  {
   "cell_type": "code",
   "execution_count": 10,
   "id": "22e4a363",
   "metadata": {
    "scrolled": false
   },
   "outputs": [],
   "source": [
    "#Question 6\n",
    "def pig(word):\n",
    "    word=word.lower()\n",
    "    if word[0] not in ['a','e','i','o','u']:\n",
    "        r=word[1:]+word[0]+\"ay\"\n",
    "        print(r)\n",
    "    else:\n",
    "        r=word+\"way\"\n",
    "        print(r)\n",
    "    "
   ]
  },
  {
   "cell_type": "code",
   "execution_count": 12,
   "id": "deac69f7",
   "metadata": {},
   "outputs": [
    {
     "name": "stdout",
     "output_type": "stream",
     "text": [
      "appyhay\n"
     ]
    }
   ],
   "source": [
    "pig('happy')"
   ]
  },
  {
   "cell_type": "code",
   "execution_count": 3,
   "id": "5bda2963",
   "metadata": {},
   "outputs": [
    {
     "name": "stdout",
     "output_type": "stream",
     "text": [
      "There are 15 patients of blood type A\n",
      "There are 1 patients of blood type B\n",
      "There are 13 patients of blood type AB\n",
      "There are 15 patients of blood type O\n",
      "There are 0 patients of blood type OO\n"
     ]
    }
   ],
   "source": [
    "#Question 7\n",
    "def bldcount(bloodfile):\n",
    "  a = 0\n",
    "  b = 0\n",
    "  o = 0\n",
    "  ab = 0\n",
    "  oo = 0\n",
    "  for bld in bloodfile:\n",
    "    btypes = bld.strip().split()\n",
    "    for btype in btypes:\n",
    "      if btype == 'A':\n",
    "        a += 1\n",
    "      elif btype == 'B':\n",
    "        b += 1\n",
    "      elif btype == 'AB':\n",
    "        ab += 1\n",
    "      elif btype == 'OO':\n",
    "        oo += 1\n",
    "      elif btype == 'O':\n",
    "        o += 1\n",
    "\n",
    "  print(\"There are\", a, \"patients of blood type A\")\n",
    "  print(\"There are\", b, \"patients of blood type B\")\n",
    "  print(\"There are\", ab, \"patients of blood type AB\")\n",
    "  print(\"There are\", o, \"patients of blood type O\")\n",
    "  print(\"There are\", oo, \"patients of blood type OO\")\n",
    "\n",
    "bfile = open(\"bloodtype.txt\")\n",
    "bldcount(bfile)"
   ]
  },
  {
   "cell_type": "code",
   "execution_count": 7,
   "id": "751428ac",
   "metadata": {},
   "outputs": [],
   "source": [
    "#Question 8\n",
    "def curconv(cur,amount):\n",
    "    x=open(\"Desktop\\currencies.txt\")\n",
    "    w=x.read()\n",
    "    x.close()\n",
    "    l=w.split()\n",
    "    for i in range(len(l)):\n",
    "        if l[i]==cur:\n",
    "            print(float(l[i+1])*amount)"
   ]
  },
  {
   "cell_type": "code",
   "execution_count": 8,
   "id": "7354e6d6",
   "metadata": {},
   "outputs": [
    {
     "name": "stdout",
     "output_type": "stream",
     "text": [
      "122.96544\n",
      "1.241401\n"
     ]
    }
   ],
   "source": [
    "curconv('EUR',100)\n",
    "curconv('JPY', 100)"
   ]
  },
  {
   "cell_type": "code",
   "execution_count": null,
   "id": "a6042827",
   "metadata": {},
   "outputs": [],
   "source": [
    "#Question 9\n",
    "#Q:Trying to add incompatible variables, as in adding 6 + ‘a’\n",
    "A:TypeError will be found.\n",
    "#Q:Referring to the 12th item of a list that has only 10 items\n",
    "A:Index Error will be found.\n",
    "#Q:Using a value that is out of range for a function’s input, such as calling math.sqrt(-1.0) \n",
    "A:Value Error will be found.\n",
    "#Q:Using an undeclared variable, such as print(x) when x has not been defined \n",
    "A:Name Error will be found.\n",
    "#Q:Trying to open a file that does not exist, such as mistyping the file name or looking in the wrong directory.\n",
    "A:FileNotFound Error will be found."
   ]
  },
  {
   "cell_type": "code",
   "execution_count": 4,
   "id": "bff16a8b",
   "metadata": {},
   "outputs": [
    {
     "name": "stdout",
     "output_type": "stream",
     "text": [
      "Enter the text: APPLE\n",
      "[1, 0, 0, 0, 1, 0, 0, 0, 0, 0, 0, 1, 0, 0, 0, 2, 0, 0, 0, 0, 0, 0, 0, 0, 0, 0]\n"
     ]
    }
   ],
   "source": [
    "#Question 10\n",
    "def frequencies():\n",
    "    text = input(\"Enter the text: \")\n",
    "    lists = \"abcdefghijklmnopqrstuvwxyz\"\n",
    "    voc_list = [0] * 26\n",
    "    for char in text:\n",
    "        if char.lower() in lists:\n",
    "            index = lists.index(char.lower())\n",
    "            voc_list[index] += 1\n",
    "    return voc_list\n",
    "\n",
    "count = frequencies()\n",
    "print(count)"
   ]
  }
 ],
 "metadata": {
  "kernelspec": {
   "display_name": "Python 3 (ipykernel)",
   "language": "python",
   "name": "python3"
  },
  "language_info": {
   "codemirror_mode": {
    "name": "ipython",
    "version": 3
   },
   "file_extension": ".py",
   "mimetype": "text/x-python",
   "name": "python",
   "nbconvert_exporter": "python",
   "pygments_lexer": "ipython3",
   "version": "3.9.13"
  }
 },
 "nbformat": 4,
 "nbformat_minor": 5
}
